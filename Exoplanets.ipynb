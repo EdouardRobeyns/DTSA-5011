{
 "cells": [
  {
   "cell_type": "markdown",
   "id": "d9128412",
   "metadata": {},
   "source": [
    "# Application of Unsupervised Learning to Exoplanet\n",
    "\n",
    "### Libraries\n",
    "\n",
    "First, let's load the necessary libraries."
   ]
  },
  {
   "cell_type": "code",
   "execution_count": 1,
   "id": "c168a428",
   "metadata": {},
   "outputs": [],
   "source": [
    "# usual import\n",
    "import numpy as np\n",
    "import pandas as pd\n",
    "import matplotlib.pyplot as plt\n",
    "import itertools\n",
    "%matplotlib inline\n",
    "from sklearn.cluster import KMeans, AgglomerativeClustering\n",
    "from sklearn.metrics import accuracy_score, confusion_matrix\n",
    "from sklearn.linear_model import LogisticRegression\n",
    "from sklearn.decomposition import PCA\n",
    "from sklearn.preprocessing import StandardScaler"
   ]
  },
  {
   "cell_type": "markdown",
   "id": "014e88a0",
   "metadata": {},
   "source": [
    "# Load the data\n",
    "\n",
    "The chosen dataset is the cumulative exoplanet KOI list maintained by NASA at this address:\n",
    "https://exoplanetarchive.ipac.caltech.edu/cgi-bin/TblView/nph-tblView?app=ExoTbls&config=cumulative\n",
    "\n",
    "The erros and limit field have been opted out upon download to get a cleaner dataset."
   ]
  },
  {
   "cell_type": "code",
   "execution_count": 2,
   "id": "c8d6cc7f",
   "metadata": {},
   "outputs": [],
   "source": [
    "# load the data\n",
    "exoplanet_df = pd.read_csv('exoplanets.csv')"
   ]
  },
  {
   "cell_type": "markdown",
   "id": "505f270c",
   "metadata": {},
   "source": [
    "Here are the column descriptions given with the file.\n",
    "\n",
    "This file was produced by the NASA Exoplanet Archive  http://exoplanetarchive.ipac.caltech.edu\n",
    "Tue May  2 20:08:40 2023\n",
    "\n",
    "* COLUMN kepid:          KepID\n",
    "* COLUMN kepoi_name:     KOI Name\n",
    "* COLUMN kepler_name:    Kepler Name\n",
    "* COLUMN koi_disposition: Exoplanet Archive Disposition\n",
    "* COLUMN koi_pdisposition: Disposition Using Kepler Data\n",
    "* COLUMN koi_score:      Disposition Score\n",
    "* COLUMN koi_fpflag_nt:  Not Transit-Like False Positive Flag\n",
    "* COLUMN koi_fpflag_ss:  Stellar Eclipse False Positive Flag\n",
    "* COLUMN koi_fpflag_co:  Centroid Offset False Positive Flag\n",
    "* COLUMN koi_fpflag_ec:  Ephemeris Match Indicates Contamination False Positive Flag\n",
    "* COLUMN koi_period:     Orbital Period [days]\n",
    "* COLUMN koi_time0bk:    Transit Epoch [BKJD]\n",
    "* COLUMN koi_impact:     Impact Parameter\n",
    "* COLUMN koi_duration:   Transit Duration [hrs]\n",
    "* COLUMN koi_depth:      Transit Depth [ppm]\n",
    "* COLUMN koi_prad:       Planetary Radius [Earth radii]\n",
    "* COLUMN koi_teq:        Equilibrium Temperature [K]\n",
    "* COLUMN koi_insol:      Insolation Flux [Earth flux]\n",
    "* COLUMN koi_model_snr:  Transit Signal-to-Noise\n",
    "* COLUMN koi_tce_plnt_num: TCE Planet Number\n",
    "* COLUMN koi_tce_delivname: TCE Delivery\n",
    "* COLUMN koi_steff:      Stellar Effective Temperature [K]\n",
    "* COLUMN koi_slogg:      Stellar Surface Gravity [log10(cm/s**2)]\n",
    "* COLUMN koi_srad:       Stellar Radius [Solar radii]\n",
    "* COLUMN ra:             RA [decimal degrees]\n",
    "* COLUMN dec:            Dec [decimal degrees]\n",
    "* COLUMN koi_kepmag:     Kepler-band [mag]"
   ]
  },
  {
   "cell_type": "markdown",
   "id": "878d149a",
   "metadata": {},
   "source": [
    "# EDA\n",
    "\n",
    "Let's have a first look at our data."
   ]
  },
  {
   "cell_type": "code",
   "execution_count": 3,
   "id": "bee9d0ca",
   "metadata": {},
   "outputs": [
    {
     "name": "stdout",
     "output_type": "stream",
     "text": [
      "<class 'pandas.core.frame.DataFrame'>\n",
      "RangeIndex: 9564 entries, 0 to 9563\n",
      "Data columns (total 27 columns):\n",
      " #   Column             Non-Null Count  Dtype  \n",
      "---  ------             --------------  -----  \n",
      " 0   kepid              9564 non-null   int64  \n",
      " 1   kepoi_name         9564 non-null   object \n",
      " 2   kepler_name        2674 non-null   object \n",
      " 3   koi_disposition    9564 non-null   object \n",
      " 4   koi_pdisposition   9564 non-null   object \n",
      " 5   koi_score          8054 non-null   float64\n",
      " 6   koi_fpflag_nt      9564 non-null   int64  \n",
      " 7   koi_fpflag_ss      9564 non-null   int64  \n",
      " 8   koi_fpflag_co      9564 non-null   int64  \n",
      " 9   koi_fpflag_ec      9564 non-null   int64  \n",
      " 10  koi_period         9564 non-null   float64\n",
      " 11  koi_time0bk        9564 non-null   float64\n",
      " 12  koi_impact         9201 non-null   float64\n",
      " 13  koi_duration       9564 non-null   float64\n",
      " 14  koi_depth          9201 non-null   float64\n",
      " 15  koi_prad           9201 non-null   float64\n",
      " 16  koi_teq            9201 non-null   float64\n",
      " 17  koi_insol          9243 non-null   float64\n",
      " 18  koi_model_snr      9201 non-null   float64\n",
      " 19  koi_tce_plnt_num   9218 non-null   float64\n",
      " 20  koi_tce_delivname  9218 non-null   object \n",
      " 21  koi_steff          9201 non-null   float64\n",
      " 22  koi_slogg          9201 non-null   float64\n",
      " 23  koi_srad           9201 non-null   float64\n",
      " 24  ra                 9564 non-null   float64\n",
      " 25  dec                9564 non-null   float64\n",
      " 26  koi_kepmag         9563 non-null   float64\n",
      "dtypes: float64(17), int64(5), object(5)\n",
      "memory usage: 2.0+ MB\n"
     ]
    }
   ],
   "source": [
    "# info\n",
    "exoplanet_df.info()"
   ]
  },
  {
   "cell_type": "markdown",
   "id": "dcbd3efd",
   "metadata": {},
   "source": [
    "We can see with that manu columns do not reach the maximum number of entries (9564). We have some cleaning to do.\n",
    "\n",
    "First let's check the column of type _object_."
   ]
  },
  {
   "cell_type": "code",
   "execution_count": 4,
   "id": "a8698165",
   "metadata": {},
   "outputs": [
    {
     "data": {
      "text/html": [
       "<div>\n",
       "<style scoped>\n",
       "    .dataframe tbody tr th:only-of-type {\n",
       "        vertical-align: middle;\n",
       "    }\n",
       "\n",
       "    .dataframe tbody tr th {\n",
       "        vertical-align: top;\n",
       "    }\n",
       "\n",
       "    .dataframe thead th {\n",
       "        text-align: right;\n",
       "    }\n",
       "</style>\n",
       "<table border=\"1\" class=\"dataframe\">\n",
       "  <thead>\n",
       "    <tr style=\"text-align: right;\">\n",
       "      <th></th>\n",
       "      <th>kepid</th>\n",
       "      <th>kepoi_name</th>\n",
       "      <th>kepler_name</th>\n",
       "      <th>koi_disposition</th>\n",
       "      <th>koi_pdisposition</th>\n",
       "      <th>koi_tce_delivname</th>\n",
       "    </tr>\n",
       "  </thead>\n",
       "  <tbody>\n",
       "    <tr>\n",
       "      <th>0</th>\n",
       "      <td>10797460</td>\n",
       "      <td>K00752.01</td>\n",
       "      <td>Kepler-227 b</td>\n",
       "      <td>CONFIRMED</td>\n",
       "      <td>CANDIDATE</td>\n",
       "      <td>q1_q17_dr25_tce</td>\n",
       "    </tr>\n",
       "    <tr>\n",
       "      <th>1</th>\n",
       "      <td>10797460</td>\n",
       "      <td>K00752.02</td>\n",
       "      <td>Kepler-227 c</td>\n",
       "      <td>CONFIRMED</td>\n",
       "      <td>CANDIDATE</td>\n",
       "      <td>q1_q17_dr25_tce</td>\n",
       "    </tr>\n",
       "    <tr>\n",
       "      <th>2</th>\n",
       "      <td>10811496</td>\n",
       "      <td>K00753.01</td>\n",
       "      <td>NaN</td>\n",
       "      <td>CANDIDATE</td>\n",
       "      <td>CANDIDATE</td>\n",
       "      <td>q1_q17_dr25_tce</td>\n",
       "    </tr>\n",
       "    <tr>\n",
       "      <th>3</th>\n",
       "      <td>10848459</td>\n",
       "      <td>K00754.01</td>\n",
       "      <td>NaN</td>\n",
       "      <td>FALSE POSITIVE</td>\n",
       "      <td>FALSE POSITIVE</td>\n",
       "      <td>q1_q17_dr25_tce</td>\n",
       "    </tr>\n",
       "    <tr>\n",
       "      <th>4</th>\n",
       "      <td>10854555</td>\n",
       "      <td>K00755.01</td>\n",
       "      <td>Kepler-664 b</td>\n",
       "      <td>CONFIRMED</td>\n",
       "      <td>CANDIDATE</td>\n",
       "      <td>q1_q17_dr25_tce</td>\n",
       "    </tr>\n",
       "  </tbody>\n",
       "</table>\n",
       "</div>"
      ],
      "text/plain": [
       "      kepid kepoi_name   kepler_name koi_disposition koi_pdisposition  \\\n",
       "0  10797460  K00752.01  Kepler-227 b       CONFIRMED        CANDIDATE   \n",
       "1  10797460  K00752.02  Kepler-227 c       CONFIRMED        CANDIDATE   \n",
       "2  10811496  K00753.01           NaN       CANDIDATE        CANDIDATE   \n",
       "3  10848459  K00754.01           NaN  FALSE POSITIVE   FALSE POSITIVE   \n",
       "4  10854555  K00755.01  Kepler-664 b       CONFIRMED        CANDIDATE   \n",
       "\n",
       "  koi_tce_delivname  \n",
       "0   q1_q17_dr25_tce  \n",
       "1   q1_q17_dr25_tce  \n",
       "2   q1_q17_dr25_tce  \n",
       "3   q1_q17_dr25_tce  \n",
       "4   q1_q17_dr25_tce  "
      ]
     },
     "execution_count": 4,
     "metadata": {},
     "output_type": "execute_result"
    }
   ],
   "source": [
    "# get a sense of columns of type 'object'\n",
    "exoplanet_df[['kepid', 'kepoi_name', 'kepler_name', 'koi_disposition', 'koi_pdisposition', 'koi_tce_delivname']].head()"
   ]
  },
  {
   "cell_type": "markdown",
   "id": "2c0be67b",
   "metadata": {},
   "source": [
    "We can see that the names and id will not be usefull, and can be removed. Also, the _koi_disposition_ and _koi_pdisposition_ are duplicate for our purpose, so let's remove the koi_pdisposition."
   ]
  },
  {
   "cell_type": "code",
   "execution_count": 5,
   "id": "6dd6ac62",
   "metadata": {},
   "outputs": [],
   "source": [
    "# drop identification columns\n",
    "exoplanet_df.drop(['kepid', 'kepoi_name', 'kepler_name', 'koi_pdisposition', 'koi_tce_delivname'], axis=1, inplace=True)"
   ]
  },
  {
   "cell_type": "markdown",
   "id": "c9492f96",
   "metadata": {},
   "source": [
    "Let's check the values for koi_disposition."
   ]
  },
  {
   "cell_type": "code",
   "execution_count": 6,
   "id": "4f038c28",
   "metadata": {},
   "outputs": [
    {
     "data": {
      "text/plain": [
       "array(['CONFIRMED', 'CANDIDATE', 'FALSE POSITIVE'], dtype=object)"
      ]
     },
     "execution_count": 6,
     "metadata": {},
     "output_type": "execute_result"
    }
   ],
   "source": [
    "# list unique categories of exoplanets\n",
    "exoplanet_df['koi_disposition'].unique()"
   ]
  },
  {
   "cell_type": "markdown",
   "id": "884e379b",
   "metadata": {},
   "source": [
    "Let's check distribution."
   ]
  },
  {
   "cell_type": "code",
   "execution_count": 7,
   "id": "d34c7f33",
   "metadata": {
    "scrolled": true
   },
   "outputs": [
    {
     "data": {
      "image/png": "[encoded data removed]",
      "text/plain": [
       "<Figure size 640x480 with 1 Axes>"
      ]
     },
     "metadata": {},
     "output_type": "display_data"
    }
   ],
   "source": [
    "# draw a histogram of koi_disposition\n",
    "exoplanet_type_hist = plt.hist(exoplanet_df['koi_disposition'])"
   ]
  },
  {
   "cell_type": "markdown",
   "id": "87d44334",
   "metadata": {},
   "source": [
    "Let's check our update dataset."
   ]
  },
  {
   "cell_type": "code",
   "execution_count": 8,
   "id": "26da2b4b",
   "metadata": {},
   "outputs": [
    {
     "name": "stdout",
     "output_type": "stream",
     "text": [
      "<class 'pandas.core.frame.DataFrame'>\n",
      "RangeIndex: 9564 entries, 0 to 9563\n",
      "Data columns (total 22 columns):\n",
      " #   Column            Non-Null Count  Dtype  \n",
      "---  ------            --------------  -----  \n",
      " 0   koi_disposition   9564 non-null   object \n",
      " 1   koi_score         8054 non-null   float64\n",
      " 2   koi_fpflag_nt     9564 non-null   int64  \n",
      " 3   koi_fpflag_ss     9564 non-null   int64  \n",
      " 4   koi_fpflag_co     9564 non-null   int64  \n",
      " 5   koi_fpflag_ec     9564 non-null   int64  \n",
      " 6   koi_period        9564 non-null   float64\n",
      " 7   koi_time0bk       9564 non-null   float64\n",
      " 8   koi_impact        9201 non-null   float64\n",
      " 9   koi_duration      9564 non-null   float64\n",
      " 10  koi_depth         9201 non-null   float64\n",
      " 11  koi_prad          9201 non-null   float64\n",
      " 12  koi_teq           9201 non-null   float64\n",
      " 13  koi_insol         9243 non-null   float64\n",
      " 14  koi_model_snr     9201 non-null   float64\n",
      " 15  koi_tce_plnt_num  9218 non-null   float64\n",
      " 16  koi_steff         9201 non-null   float64\n",
      " 17  koi_slogg         9201 non-null   float64\n",
      " 18  koi_srad          9201 non-null   float64\n",
      " 19  ra                9564 non-null   float64\n",
      " 20  dec               9564 non-null   float64\n",
      " 21  koi_kepmag        9563 non-null   float64\n",
      "dtypes: float64(17), int64(4), object(1)\n",
      "memory usage: 1.6+ MB\n"
     ]
    }
   ],
   "source": [
    "# info\n",
    "exoplanet_df.info()"
   ]
  },
  {
   "cell_type": "markdown",
   "id": "9e908602",
   "metadata": {},
   "source": [
    "Obviously, the score is to strong an indication of results and must be removed."
   ]
  },
  {
   "cell_type": "code",
   "execution_count": 9,
   "id": "e43a5aef",
   "metadata": {},
   "outputs": [],
   "source": [
    "# drop the koi_score\n",
    "exoplanet_df.drop('koi_score', axis=1, inplace=True)"
   ]
  },
  {
   "cell_type": "markdown",
   "id": "683db719",
   "metadata": {},
   "source": [
    "Now, let's check the percentages of column with null values."
   ]
  },
  {
   "cell_type": "code",
   "execution_count": 10,
   "id": "3825376e",
   "metadata": {},
   "outputs": [
    {
     "name": "stdout",
     "output_type": "stream",
     "text": [
      "koi_impact null count: 363 represents 3.80%\n",
      "koi_depth null count: 363 represents 3.80%\n",
      "koi_prad null count: 363 represents 3.80%\n",
      "koi_teq null count: 363 represents 3.80%\n",
      "koi_insol null count: 321 represents 3.36%\n",
      "koi_model_snr null count: 363 represents 3.80%\n",
      "koi_tce_plnt_num null count: 346 represents 3.62%\n",
      "koi_steff null count: 363 represents 3.80%\n",
      "koi_slogg null count: 363 represents 3.80%\n",
      "koi_srad null count: 363 represents 3.80%\n",
      "koi_kepmag null count: 1 represents 0.01%\n"
     ]
    }
   ],
   "source": [
    "# total number of rows\n",
    "n = 9564\n",
    "# list of columns containing NA/Null\n",
    "col_list = [\n",
    "    'koi_impact', 'koi_depth', 'koi_prad', 'koi_teq', 'koi_insol', 'koi_model_snr',\n",
    "    'koi_tce_plnt_num', 'koi_steff', 'koi_slogg', 'koi_srad', 'koi_kepmag']\n",
    "\n",
    "# loop over column and ouput count and percentages of NA/Null\n",
    "for col in col_list:\n",
    "    count = sum(exoplanet_df[col].isna())\n",
    "    print(col + ' null count: {} represents {:.2f}%'.format(count, count * 100 / n))"
   ]
  },
  {
   "cell_type": "markdown",
   "id": "2b7b26ce",
   "metadata": {},
   "source": [
    "As can be seen, these representant less than 4% of the data, below the 5% threshold. We can therefore remove them."
   ]
  },
  {
   "cell_type": "code",
   "execution_count": 11,
   "id": "26b6b5e0",
   "metadata": {},
   "outputs": [],
   "source": [
    "# loop over columns and remove NA/Null\n",
    "for col in col_list:\n",
    "    exoplanet_df = exoplanet_df[exoplanet_df[col].isna() == False]"
   ]
  },
  {
   "cell_type": "markdown",
   "id": "3784ab2a",
   "metadata": {},
   "source": [
    "Let's have a final look at our data."
   ]
  },
  {
   "cell_type": "code",
   "execution_count": 12,
   "id": "747deeae",
   "metadata": {},
   "outputs": [
    {
     "name": "stdout",
     "output_type": "stream",
     "text": [
      "<class 'pandas.core.frame.DataFrame'>\n",
      "Int64Index: 8945 entries, 0 to 9563\n",
      "Data columns (total 21 columns):\n",
      " #   Column            Non-Null Count  Dtype  \n",
      "---  ------            --------------  -----  \n",
      " 0   koi_disposition   8945 non-null   object \n",
      " 1   koi_fpflag_nt     8945 non-null   int64  \n",
      " 2   koi_fpflag_ss     8945 non-null   int64  \n",
      " 3   koi_fpflag_co     8945 non-null   int64  \n",
      " 4   koi_fpflag_ec     8945 non-null   int64  \n",
      " 5   koi_period        8945 non-null   float64\n",
      " 6   koi_time0bk       8945 non-null   float64\n",
      " 7   koi_impact        8945 non-null   float64\n",
      " 8   koi_duration      8945 non-null   float64\n",
      " 9   koi_depth         8945 non-null   float64\n",
      " 10  koi_prad          8945 non-null   float64\n",
      " 11  koi_teq           8945 non-null   float64\n",
      " 12  koi_insol         8945 non-null   float64\n",
      " 13  koi_model_snr     8945 non-null   float64\n",
      " 14  koi_tce_plnt_num  8945 non-null   float64\n",
      " 15  koi_steff         8945 non-null   float64\n",
      " 16  koi_slogg         8945 non-null   float64\n",
      " 17  koi_srad          8945 non-null   float64\n",
      " 18  ra                8945 non-null   float64\n",
      " 19  dec               8945 non-null   float64\n",
      " 20  koi_kepmag        8945 non-null   float64\n",
      "dtypes: float64(16), int64(4), object(1)\n",
      "memory usage: 1.5+ MB\n"
     ]
    }
   ],
   "source": [
    "# info\n",
    "exoplanet_df.info()"
   ]
  },
  {
   "cell_type": "markdown",
   "id": "87cb730c",
   "metadata": {},
   "source": [
    "This is getting promising. Let's extract that column into our y_true for later comparison."
   ]
  },
  {
   "cell_type": "code",
   "execution_count": 13,
   "id": "b6ad700d",
   "metadata": {},
   "outputs": [],
   "source": [
    "# make y_true\n",
    "y_true = exoplanet_df['koi_disposition']\n",
    "\n",
    "# remove from dataset\n",
    "exoplanet_df.drop('koi_disposition', axis=1, inplace=True)"
   ]
  },
  {
   "cell_type": "markdown",
   "id": "367f582b",
   "metadata": {},
   "source": [
    "We now have a clean dataset ready for modeling."
   ]
  },
  {
   "cell_type": "markdown",
   "id": "13e0f84f",
   "metadata": {},
   "source": [
    "### Modeling\n",
    "\n",
    "For the purpose of testing unsupervised machine learning algorithms, we will first test kmeans, as this feels like a natural fit to identify groups of entities. We know we have 3 groups."
   ]
  },
  {
   "cell_type": "code",
   "execution_count": 14,
   "id": "9ae35419",
   "metadata": {},
   "outputs": [],
   "source": [
    "# fit KMeans algorithm with 3 cluster\n",
    "kmeans = KMeans(n_clusters=3, algorithm='lloyd', n_init='auto').fit(exoplanet_df)"
   ]
  },
  {
   "cell_type": "markdown",
   "id": "272099cf",
   "metadata": {},
   "source": [
    "Before we can check accuracy, we need a function to permute labels to find the best fit."
   ]
  },
  {
   "cell_type": "code",
   "execution_count": 15,
   "id": "4c01843d",
   "metadata": {},
   "outputs": [],
   "source": [
    "# function to find best permutation\n",
    "def label_permute_compare(y_true, y_pred):\n",
    "    # initiate list of label\n",
    "    label_list = ['CONFIRMED', 'CANDIDATE', 'FALSE POSITIVE']\n",
    "    # initiate best values\n",
    "    best_list = None\n",
    "    best_accuracy = 0\n",
    "    # create permutations and loop\n",
    "    perms = itertools.permutations(label_list)\n",
    "    # loop over permutations\n",
    "    for perm in perms:\n",
    "        # copy yp\n",
    "        y_pred_copy = np.copy(y_pred)\n",
    "        # replace ids with labels\n",
    "        y_pred_copy = [perm[y_pred[i]] for i in y_pred_copy]\n",
    "        # compute accuracy\n",
    "        accuracy = np.sum(y_pred_copy == y_true) / len(y_pred_copy)\n",
    "        # save if best\n",
    "        if accuracy > best_accuracy:\n",
    "            best_accuracy = accuracy\n",
    "            best_list = perm\n",
    "    # return best accuracy and associated y_pred\n",
    "    return y_pred_copy, best_accuracy"
   ]
  },
  {
   "cell_type": "markdown",
   "id": "a325f240",
   "metadata": {},
   "source": [
    "Now let's check the accuracy of our kmeans cluster."
   ]
  },
  {
   "cell_type": "code",
   "execution_count": 16,
   "id": "d00d2ed0",
   "metadata": {},
   "outputs": [
    {
     "name": "stdout",
     "output_type": "stream",
     "text": [
      "0.4897708216880939\n"
     ]
    }
   ],
   "source": [
    "# find accuracy\n",
    "y_pred, accuracy = label_permute_compare(y_true, kmeans.labels_)\n",
    "print(accuracy)"
   ]
  },
  {
   "cell_type": "markdown",
   "id": "a13bc135",
   "metadata": {},
   "source": [
    "At nearly 49%, we are doing better than random (33%), but this is not the best either. Let's test a different kmeans algorithm."
   ]
  },
  {
   "cell_type": "code",
   "execution_count": 17,
   "id": "31bcc6f0",
   "metadata": {},
   "outputs": [
    {
     "name": "stdout",
     "output_type": "stream",
     "text": [
      "0.4897708216880939\n"
     ]
    }
   ],
   "source": [
    "# fit kmeans model with 3 cluster\n",
    "kmeans = KMeans(n_clusters=3, algorithm='elkan', n_init='auto').fit(exoplanet_df)\n",
    "# find best accuracy\n",
    "y_pred, accuracy = label_permute_compare(y_true, kmeans.labels_)\n",
    "# print accuracy\n",
    "print(accuracy)"
   ]
  },
  {
   "cell_type": "markdown",
   "id": "22ed3ad0",
   "metadata": {},
   "source": [
    "It seems changing the algorithm used does not impact the accuracy.\n",
    "\n",
    "### Applying dimensionality reduction\n",
    "\n",
    "Let's try to reduce the number of dimension with PCA and see if we achieve better results."
   ]
  },
  {
   "cell_type": "code",
   "execution_count": 18,
   "id": "880c6369",
   "metadata": {},
   "outputs": [],
   "source": [
    "# Scale data before applying PCA\n",
    "scaling=StandardScaler()\n",
    "\n",
    "# Use fit and transform method\n",
    "scaling.fit(exoplanet_df)\n",
    "exoplanet_scaled_df = scaling.transform(exoplanet_df)\n",
    " \n",
    "# Set the n_components=3\n",
    "principal = PCA(n_components=3)\n",
    "principal.fit(exoplanet_scaled_df)\n",
    "exoplanet_pca_df = principal.transform(exoplanet_scaled_df)"
   ]
  },
  {
   "cell_type": "markdown",
   "id": "5a893966",
   "metadata": {},
   "source": [
    "Now, let's test again both algorithms."
   ]
  },
  {
   "cell_type": "code",
   "execution_count": 19,
   "id": "be876526",
   "metadata": {},
   "outputs": [
    {
     "name": "stdout",
     "output_type": "stream",
     "text": [
      "lloyd\n",
      "0.4897708216880939\n"
     ]
    }
   ],
   "source": [
    "# init algorithms\n",
    "algo_list = ['lloyd', 'elkan']\n",
    "# init best results\n",
    "best_accuracy = 0\n",
    "best_algo = None\n",
    "for algo in algo_list:\n",
    "    # fit kmeans model with 5 cluster\n",
    "    kmeans = KMeans(n_clusters=3, algorithm=algo, n_init='auto').fit(exoplanet_pca_df)\n",
    "    # find best accuracy\n",
    "    y_pred, accuracy = label_permute_compare(y_true, kmeans.labels_)\n",
    "    # update best if necessary\n",
    "    if accuracy > best_accuracy:\n",
    "        best_accuracy = accuracy\n",
    "        best_algo = algo\n",
    "# print results\n",
    "print(best_algo)\n",
    "print(best_accuracy)"
   ]
  },
  {
   "cell_type": "markdown",
   "id": "be64aefa",
   "metadata": {},
   "source": [
    "The default value of 3 components for PCA doesn't yield any better accuracy. Let's try different values."
   ]
  },
  {
   "cell_type": "code",
   "execution_count": 20,
   "id": "3f850611",
   "metadata": {},
   "outputs": [],
   "source": [
    "# get the maximum number of component\n",
    "max_nb_component = exoplanet_df.shape[1]\n",
    "# init algorithms\n",
    "algo_list = ['lloyd', 'elkan']\n",
    "# init best results\n",
    "idx = 0\n",
    "idx_list = []\n",
    "accuracy_list = []\n",
    "best_accuracy = 0\n",
    "best_y_pred = 0\n",
    "# loop over number of component\n",
    "for nb_component in range(1, max_nb_component):\n",
    "    # loop over several random state\n",
    "    for random_state in range(0, 10):\n",
    "        # Set the n_components and random_state\n",
    "        principal = PCA(n_components=nb_component, random_state=random_state)\n",
    "        principal.fit(exoplanet_scaled_df)\n",
    "        exoplanet_pca_df = principal.transform(exoplanet_scaled_df)\n",
    "        # loop over kmeans algo\n",
    "        for algo in algo_list:\n",
    "            # fit kmeans model with 5 cluster\n",
    "            kmeans = KMeans(n_clusters=3, algorithm=algo, n_init='auto').fit(exoplanet_pca_df)\n",
    "            # find best accuracy\n",
    "            y_pred, accuracy = label_permute_compare(y_true, kmeans.labels_)\n",
    "            # record accuracy\n",
    "            idx_list.append(idx)\n",
    "            accuracy_list.append(accuracy)\n",
    "            idx = idx + 1\n",
    "            # update best if necessary\n",
    "            if accuracy > best_accuracy:\n",
    "                best_accuracy = accuracy\n",
    "                best_y_pred = y_pred"
   ]
  },
  {
   "cell_type": "code",
   "execution_count": 21,
   "id": "6ec40923",
   "metadata": {},
   "outputs": [
    {
     "data": {
      "text/plain": [
       "<matplotlib.collections.PathCollection at 0x2b419ecd520>"
      ]
     },
     "execution_count": 21,
     "metadata": {},
     "output_type": "execute_result"
    },
    {
     "data": {
      "image/png": "[encoded data removed]",
      "text/plain": [
       "<Figure size 640x480 with 1 Axes>"
      ]
     },
     "metadata": {},
     "output_type": "display_data"
    }
   ],
   "source": [
    "plt.scatter(idx_list, accuracy_list)"
   ]
  },
  {
   "cell_type": "markdown",
   "id": "a1610281",
   "metadata": {},
   "source": [
    "We can get the accuracy up to 66%, showing kmeans can leverage PCA.\n",
    "\n",
    "_Please note several runs result in different value, and I have not been able to pinpoint what random state / seed provides the best result overall. Sometimes not improvement is shown whatsoever._\n",
    "\n",
    "To finish with KMeans, let's check the confusion matrix."
   ]
  },
  {
   "cell_type": "code",
   "execution_count": 22,
   "id": "7c9a8d42",
   "metadata": {},
   "outputs": [
    {
     "data": {
      "text/plain": [
       "array([[ 367, 1537,    0],\n",
       "       [ 728, 1932,    0],\n",
       "       [ 135, 4246,    0]], dtype=int64)"
      ]
     },
     "execution_count": 22,
     "metadata": {},
     "output_type": "execute_result"
    }
   ],
   "source": [
    "confusion_matrix(y_true, best_y_pred)"
   ]
  },
  {
   "cell_type": "markdown",
   "id": "5b1d3a53",
   "metadata": {},
   "source": [
    "### Agglomerative Clustering\n",
    "\n",
    "Let's find if a different type of clustering technic would bring better results."
   ]
  },
  {
   "cell_type": "code",
   "execution_count": 23,
   "id": "3fb7ee44",
   "metadata": {},
   "outputs": [],
   "source": [
    "# prepare the list of metric\n",
    "metric_list = ['cityblock', 'cosine', 'euclidean', 'l1', 'l2', 'manhattan']\n",
    "# prepare the list of linkage\n",
    "linkage_list = ['ward', 'complete', 'average', 'single']\n",
    "# init best\n",
    "idx = 0\n",
    "idx_list = []\n",
    "accuracy_list = []\n",
    "best_accuracy = 0\n",
    "best_metric = 0\n",
    "best_linkage = 0\n",
    "best_y_pred = 0\n",
    "# loop over metric\n",
    "for metric in metric_list:\n",
    "    # loop over linkage\n",
    "    for linkage in linkage_list:\n",
    "        # some combination of linkage and metric is invalid, let's catch them\n",
    "        try:\n",
    "            # instance model\n",
    "            exoplanet_model = AgglomerativeClustering(n_clusters=3, linkage=linkage, metric=metric).fit(exoplanet_df)\n",
    "            # retrieve and print best accuracy\n",
    "            y_pred, accuracy = label_permute_compare(y_true, exoplanet_model.labels_)\n",
    "            # record\n",
    "            idx_list.append(idx)\n",
    "            accuracy_list.append(accuracy)\n",
    "            idx = idx + 1\n",
    "            # update best\n",
    "            if accuracy > best_accuracy:\n",
    "                best_accuracy = accuracy\n",
    "                best_metric = metric\n",
    "                best_linkage = linkage\n",
    "                best_y_pred = y_pred\n",
    "        except:\n",
    "            continue"
   ]
  },
  {
   "cell_type": "code",
   "execution_count": 24,
   "id": "9d0271c2",
   "metadata": {},
   "outputs": [
    {
     "data": {
      "text/plain": [
       "<matplotlib.collections.PathCollection at 0x2b41ac53580>"
      ]
     },
     "execution_count": 24,
     "metadata": {},
     "output_type": "execute_result"
    },
    {
     "data": {
      "image/png": "[encoded data removed]",
      "text/plain": [
       "<Figure size 640x480 with 1 Axes>"
      ]
     },
     "metadata": {},
     "output_type": "display_data"
    }
   ],
   "source": [
    "plt.scatter(idx_list, accuracy_list)"
   ]
  },
  {
   "cell_type": "markdown",
   "id": "2ae230af",
   "metadata": {},
   "source": [
    "Agglomerative Clustering doesn't provide any significant improvement over KMeans."
   ]
  },
  {
   "cell_type": "markdown",
   "id": "9fb83dc8",
   "metadata": {},
   "source": [
    "Let's have a look at the confusion matrix."
   ]
  },
  {
   "cell_type": "code",
   "execution_count": 25,
   "id": "d3621abb",
   "metadata": {},
   "outputs": [
    {
     "data": {
      "text/plain": [
       "array([[1904,    0,    0],\n",
       "       [2660,    0,    0],\n",
       "       [4381,    0,    0]], dtype=int64)"
      ]
     },
     "execution_count": 25,
     "metadata": {},
     "output_type": "execute_result"
    }
   ],
   "source": [
    "confusion_matrix(y_true, best_y_pred)"
   ]
  },
  {
   "cell_type": "markdown",
   "id": "9b024ebc",
   "metadata": {},
   "source": [
    "### Comparison with Supervised learning\n",
    "\n",
    "Let's compare those results with some Logistic Regression."
   ]
  },
  {
   "cell_type": "code",
   "execution_count": 26,
   "id": "035bd097",
   "metadata": {},
   "outputs": [
    {
     "name": "stdout",
     "output_type": "stream",
     "text": [
      "0.6634991615427613\n"
     ]
    }
   ],
   "source": [
    "# instance the model\n",
    "logreg_model = LogisticRegression(solver='liblinear')\n",
    "\n",
    "# fit the data\n",
    "logreg_model.fit(exoplanet_df, y_true)\n",
    "\n",
    "# predict y_hat\n",
    "y_pred = logreg_model.predict(exoplanet_df)\n",
    "\n",
    "# check accuracy\n",
    "print(accuracy_score(y_true, y_pred))"
   ]
  },
  {
   "cell_type": "markdown",
   "id": "1a253516",
   "metadata": {},
   "source": [
    "Here we easily get to the same accuracy (66%) in just a few lines of codes."
   ]
  },
  {
   "cell_type": "markdown",
   "id": "f8fa49e7",
   "metadata": {},
   "source": [
    "Let's have a look at the confusion matrix."
   ]
  },
  {
   "cell_type": "code",
   "execution_count": 27,
   "id": "69137000",
   "metadata": {},
   "outputs": [
    {
     "data": {
      "text/plain": [
       "array([[ 222, 1035,  647],\n",
       "       [  45, 2187,  428],\n",
       "       [ 244,  611, 3526]], dtype=int64)"
      ]
     },
     "execution_count": 27,
     "metadata": {},
     "output_type": "execute_result"
    }
   ],
   "source": [
    "confusion_matrix(y_true, y_pred)"
   ]
  },
  {
   "cell_type": "markdown",
   "id": "39461ea2",
   "metadata": {},
   "source": [
    "## Conclusion\n",
    "\n",
    "We have chosen two clustering techniques to see whether Unsupervised Machine Learning Algorithms could be a good fit to the task of classifying Exoplanets. Despite using PCA to help, both algorithm have been proven a bad fit for the data at end. A simple logistic regresion could easily outclass them both."
   ]
  }
 ],
 "metadata": {
  "kernelspec": {
   "display_name": "Python 3 (ipykernel)",
   "language": "python",
   "name": "python3"
  },
  "language_info": {
   "codemirror_mode": {
    "name": "ipython",
    "version": 3
   },
   "file_extension": ".py",
   "mimetype": "text/x-python",
   "name": "python",
   "nbconvert_exporter": "python",
   "pygments_lexer": "ipython3",
   "version": "3.9.16"
  }
 },
 "nbformat": 4,
 "nbformat_minor": 5
}
